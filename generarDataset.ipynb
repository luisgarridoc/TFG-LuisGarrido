{
 "cells": [
  {
   "cell_type": "markdown",
   "id": "597b5cda-01e6-4b8d-9916-d4c07ce53910",
   "metadata": {},
   "source": [
    "### COMMANDS THAT GENERATE THE SUBSETS OF THE SEQUENTIAL_GAP DATASET"
   ]
  },
  {
   "cell_type": "code",
   "execution_count": null,
   "id": "b479109b-dc58-4f69-8964-9dad8d70ddde",
   "metadata": {
    "scrolled": true
   },
   "outputs": [],
   "source": [
    "python /workspace/Particiones/CodePublic/CodePublic/GenDataset.py -l /workspace/Particiones/datapartitions/Sequential_Gap/B_Split/evaluation.txt -d /workspace/B_dataset -o /workspace/B_dataset/Sequential_Gap/evaluation"
   ]
  },
  {
   "cell_type": "code",
   "execution_count": null,
   "id": "6e99a74b-20f2-430f-a40c-2cbf3c815210",
   "metadata": {},
   "outputs": [],
   "source": [
    "python /workspace/Particiones/CodePublic/CodePublic/GenDataset.py -l /workspace/Particiones/datapartitions/Sequential_Gap/B_Split/training.txt -d /workspace/B_dataset -o /workspace/B_dataset/Sequential_Gap/training"
   ]
  },
  {
   "cell_type": "code",
   "execution_count": null,
   "id": "38ab7bb1-4555-4a68-b8b2-09174c92f2cb",
   "metadata": {},
   "outputs": [],
   "source": [
    "python /workspace/Particiones/CodePublic/CodePublic/GenDataset.py -l /workspace/Particiones/datapartitions/Sequential_Gap/B_Split/validation.txt -d /workspace/B_dataset -o /workspace/B_dataset/Sequential_Gap/validation"
   ]
  },
  {
   "cell_type": "code",
   "execution_count": null,
   "id": "ae747d2c-e13d-4561-a0ab-7e490f0d5cfa",
   "metadata": {},
   "outputs": [],
   "source": [
    "python /workspace/Particiones/CodePublic/CodePublic/GenDataset.py -l /workspace/Particiones/datapartitions/Sequential_Gap/C_Split/evaluation.txt -d /workspace/C_dataset -o /workspace/C_dataset/Sequential_Gap/evaluation/images"
   ]
  },
  {
   "cell_type": "code",
   "execution_count": null,
   "id": "4e58933c-a110-4dae-bf71-2b50ee13cc2f",
   "metadata": {},
   "outputs": [],
   "source": [
    "python /workspace/Particiones/CodePublic/CodePublic/GenDataset.py -l /workspace/Particiones/datapartitions/Sequential_Gap/C_Split/training.txt -d /workspace/C_dataset -o /workspace/C_dataset/Sequential_Gap/training/images"
   ]
  },
  {
   "cell_type": "code",
   "execution_count": null,
   "id": "6ea7a4cf-b39c-47c8-9d80-3b51568daadd",
   "metadata": {},
   "outputs": [],
   "source": [
    "python /workspace/Particiones/CodePublic/CodePublic/GenDataset.py -l /workspace/Particiones/datapartitions/Sequential_Gap/C_Split/validation.txt -d /workspace/C_dataset -o /workspace/C_dataset/Sequential_Gap/validationimages"
   ]
  }
 ],
 "metadata": {
  "kernelspec": {
   "display_name": "Python 3 (ipykernel)",
   "language": "python",
   "name": "python3"
  },
  "language_info": {
   "codemirror_mode": {
    "name": "ipython",
    "version": 3
   },
   "file_extension": ".py",
   "mimetype": "text/x-python",
   "name": "python",
   "nbconvert_exporter": "python",
   "pygments_lexer": "ipython3",
   "version": "3.11.11"
  }
 },
 "nbformat": 4,
 "nbformat_minor": 5
}
