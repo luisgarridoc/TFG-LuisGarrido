{
 "cells": [
  {
   "cell_type": "markdown",
   "id": "f845f96f",
   "metadata": {},
   "source": [
    "# YOLOv11 OBB: TRAINING AND TEST"
   ]
  },
  {
   "cell_type": "markdown",
   "id": "00df1a62",
   "metadata": {},
   "source": [
    "## 1) Instalation"
   ]
  },
  {
   "cell_type": "code",
   "execution_count": null,
   "id": "e71f10a0",
   "metadata": {},
   "outputs": [],
   "source": [
    "!pip -q install -U ultralytics\n",
    "!pip install pandas\n",
    "import ultralytics, sys\n",
    "print('Ultralytics version:', ultralytics.__version__)\n",
    "print('Python version:', sys.version)"
   ]
  },
  {
   "cell_type": "markdown",
   "id": "9383ae86",
   "metadata": {},
   "source": [
    "## 2) Configuration"
   ]
  },
  {
   "cell_type": "code",
   "execution_count": null,
   "id": "2b9fdf32",
   "metadata": {},
   "outputs": [],
   "source": [
    "from pathlib import Path\n",
    "DATA_DIR = Path('/workspace/X_dataset/Sequential_Gap/OBB') \n",
    "DATA_YAML = DATA_DIR / 'data.yaml'\n",
    "HYP_YAML = DATA_DIR / 'hyp2.yaml'\n",
    "\n",
    "# Base OBB model (also s/m/l/x)\n",
    "MODEL_NAME = 'yolo11n-obb.pt'"
   ]
  },
  {
   "cell_type": "markdown",
   "id": "4d5aa049",
   "metadata": {},
   "source": [
    "## 3) Training"
   ]
  },
  {
   "cell_type": "code",
   "execution_count": null,
   "id": "dc07389b",
   "metadata": {},
   "outputs": [],
   "source": [
    "import yaml\n",
    "from ultralytics import YOLO\n",
    "\n",
    "# Load model (pretrained weights or custom architecture)\n",
    "model = YOLO(MODEL_NAME)\n",
    "\n",
    "# Load training hyperparameters from YAML file\n",
    "with open(HYP_YAML, \"r\") as f:\n",
    "    hyp = yaml.safe_load(f)\n",
    "\n",
    "# Train the YOLO model\n",
    "results = model.train(\n",
    "    data=str(DATA_YAML),  # dataset config (paths, classes)\n",
    "    imgsz=1536,           # input image size\n",
    "    epochs=60,            # maximum training epochs\n",
    "    batch=4,              # batch size per device\n",
    "    device=DEVICE,        # GPU/CPU device (e.g. 0, \"0,1\", or \"cpu\")\n",
    "    optimizer=\"AdamW\",    # optimizer type\n",
    "    close_mosaic=12,      # disable mosaic augmentation in last epochs\n",
    "    patience=20,          # early stopping patience\n",
    "    nbs=32,               # nominal batch size (for LR scaling)\n",
    "    **hyp,                # additional hyperparameters from YAML\n",
    ")\n",
    "\n",
    "# Display training results\n",
    "results\n"
   ]
  },
  {
   "cell_type": "markdown",
   "id": "47b0ea87-504f-43b9-8dc1-62d7247180dd",
   "metadata": {},
   "source": [
    "## 4) Test"
   ]
  },
  {
   "cell_type": "code",
   "execution_count": null,
   "id": "d7884741-9ae3-49e3-8d9b-64b2652bc3e6",
   "metadata": {},
   "outputs": [],
   "source": [
    "from ultralytics import YOLO\n",
    "import os\n",
    "import pandas as pd\n",
    "\n",
    "# Model and dataset paths\n",
    "model_path = \"YOLOV11N-C.pt\"\n",
    "DATA_YAML = \"/workspace/C_dataset/Sequential_Gap/OBB/data.yaml\"\n",
    "SAVE_DIR = \"resultados_test_aabb\"\n",
    "MODEL_NAME = \"modelo_AABB_CC\"\n",
    "\n",
    "# Load trained model\n",
    "model = YOLO(model_path)\n",
    "\n",
    "# Run evaluation on test split\n",
    "metrics_test = model.val(\n",
    "    data=DATA_YAML,\n",
    "    split='test',       # evaluate on test set\n",
    "    imgsz=1024,         # image size for evaluation\n",
    "    project=SAVE_DIR,   # root directory for saving results\n",
    "    name=MODEL_NAME,    # subdirectory name\n",
    "    plots=True,         # save plots (PR curves, confusion matrix, etc.)\n",
    "    save_json=True      # export COCO-style JSON metrics\n",
    ")\n",
    "\n",
    "# Extract global metrics\n",
    "mp = metrics_test.box.mp         # mean precision\n",
    "mr = metrics_test.box.mr         # mean recall\n",
    "map50 = metrics_test.box.map50   # mAP at IoU=0.5\n",
    "map5095 = metrics_test.box.map   # mAP at IoU=0.5:0.95\n",
    "\n",
    "# Collect results in a list of dicts\n",
    "resultados = []\n",
    "resultados.append({\n",
    "    \"Model\": MODEL_NAME,\n",
    "    \"Class\": \"GLOBAL\",\n",
    "    \"Precision\": mp,\n",
    "    \"Recall\": mr,\n",
    "    \"AP@0.5\": map50,\n",
    "    \"AP@0.5:0.95\": map5095\n",
    "})\n",
    "\n",
    "# Per-class metrics\n",
    "names = model.names\n",
    "for i, name in names.items():\n",
    "    p, r, ap50, ap = metrics_test.box.class_result(i)\n",
    "    resultados.append({\n",
    "        \"Model\": MODEL_NAME,\n",
    "        \"Class\": name,\n",
    "        \"Precision\": p,\n",
    "        \"Recall\": r,\n",
    "        \"AP@0.5\": ap50,\n",
    "        \"AP@0.5:0.95\": ap\n",
    "    })\n",
    "\n",
    "# Save metrics to CSV in the same directory as YOLO results\n",
    "output_dir = metrics_test.save_dir\n",
    "csv_path = os.path.join(output_dir, f\"{MODEL_NAME}_metrics.csv\")\n",
    "pd.DataFrame(resultados).to_csv(csv_path, index=False)\n",
    "\n",
    "print(f\"Metrics saved at: {csv_path}\")\n"
   ]
  },
  {
   "cell_type": "markdown",
   "id": "98b316cd-8343-46b8-87b2-6037cb9c9b6f",
   "metadata": {},
   "source": [
    "## 5) Predictions for Visualization"
   ]
  },
  {
   "cell_type": "code",
   "execution_count": null,
   "id": "c85a3933-7279-4dd5-9eab-ce11e98685e5",
   "metadata": {
    "scrolled": true
   },
   "outputs": [],
   "source": [
    "#TIS SECTION IS USED TO SAVE THE PREDICTIONS IN A .txt FILE, FOR A BETTER VISUALIZATION THAT THE ONE PREDEFINED BY YOLO\n",
    "from pathlib import Path\n",
    "model_path = \"YOLOV11N-B.pt\"\n",
    "model = YOLO(model_path)\n",
    "SOURCE = '/workspace/C_dataset/Sequential_Gap/OBB/images/evaluation/v2_021960.jpg'\n",
    "pred = model.predict(source=str(SOURCE), imgsz=1536, save=True, save_txt=True, save_conf=True)\n",
    "pred"
   ]
  }
 ],
 "metadata": {
  "kernelspec": {
   "display_name": "Python 3 (ipykernel)",
   "language": "python",
   "name": "python3"
  },
  "language_info": {
   "codemirror_mode": {
    "name": "ipython",
    "version": 3
   },
   "file_extension": ".py",
   "mimetype": "text/x-python",
   "name": "python",
   "nbconvert_exporter": "python",
   "pygments_lexer": "ipython3",
   "version": "3.11.11"
  }
 },
 "nbformat": 4,
 "nbformat_minor": 5
}
